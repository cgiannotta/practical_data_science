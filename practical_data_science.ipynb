{
 "cells": [
  {
   "cell_type": "code",
   "execution_count": 2,
   "metadata": {},
   "outputs": [],
   "source": [
    "# import boto3\n",
    "# import pandas as pd\n",
    "# import matplotlib.pyplot as plt\n",
    "# import seaborn as sns\n",
    "# from sagemaker import get_execution_role"
   ]
  },
  {
   "cell_type": "code",
   "execution_count": 3,
   "metadata": {},
   "outputs": [],
   "source": [
    "# role = get_execution_role()\n",
    "# bucket = 'courseradata'\n",
    "# data_key = 'womens_clothing_ecommerce_reviews_transformed.csv'\n",
    "# data_location = f's3://{bucket}/{data_key}'"
   ]
  },
  {
   "cell_type": "code",
   "execution_count": 4,
   "metadata": {},
   "outputs": [],
   "source": [
    "# df = pd.read_csv(data_location)\n",
    "# df.head()"
   ]
  },
  {
   "cell_type": "code",
   "execution_count": null,
   "metadata": {},
   "outputs": [],
   "source": [
    "# from sagemaker import clarify\n",
    "# from sagemaker import LocalSession\n",
    "# # sess = Session()\n",
    "# session = LocalSession()\n",
    "# session.config = {'local': {'local_code': True }}\n",
    "# clarify_processor = clarify.SageMakerClarifyProcessor(role=role,\n",
    "#                                                       instance_count=1, # nodes in cluster\n",
    "#                                                       instance_type='ml.t2.medium', # processing capacity of each node\n",
    "#                                                       sagemaker_session=session)\n",
    "\n",
    "# bias_report_output_path = f's3://{bucket}'\n",
    "\n",
    "# bias_data_config = clarify.DataConfig(s3_data_input_path=data_location,\n",
    "#                                      s3_output_path='bias_report_output_path',\n",
    "#                                      label='sentiment', # target variable\n",
    "#                                      headers=df.columns.to_list(),\n",
    "#                                      dataset_type='text/csv')\n",
    "\n",
    "# bias_config = clarify.BiasConfig(label_values_or_threshold=[], # desired values for labels (-1, 0, 1)\n",
    "#                                  facet_name='product_category')\n",
    "\n",
    "# clarify_processor.run_pre_training_bias(data_config=bias_data_config,\n",
    "#                                        data_bias_config=bias_config,\n",
    "#                                        methods=['CI', 'DPL'], # imbalance metrics (class imb, diff in prop of labels)\n",
    "#                                        wait=False,\n",
    "#                                        logs=True)"
   ]
  }
 ],
 "metadata": {
  "kernelspec": {
   "display_name": "Python 3",
   "language": "python",
   "name": "python3"
  },
  "language_info": {
   "codemirror_mode": {
    "name": "ipython",
    "version": 3
   },
   "file_extension": ".py",
   "mimetype": "text/x-python",
   "name": "python",
   "nbconvert_exporter": "python",
   "pygments_lexer": "ipython3",
   "version": "3.7.4"
  }
 },
 "nbformat": 4,
 "nbformat_minor": 4
}
